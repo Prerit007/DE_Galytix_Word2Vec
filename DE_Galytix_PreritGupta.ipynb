{
  "cells": [
    {
      "cell_type": "markdown",
      "metadata": {},
      "source": [
        "## Downloading Libary"
      ]
    },
    {
      "cell_type": "code",
      "execution_count": null,
      "metadata": {
        "colab": {
          "base_uri": "https://localhost:8080/"
        },
        "id": "jpoUJb0gXg2M",
        "outputId": "c549c43b-76ac-4c49-eb82-3bf009b80736"
      },
      "outputs": [
        {
          "name": "stdout",
          "output_type": "stream",
          "text": [
            "Requirement already satisfied: nltk in /usr/local/lib/python3.10/dist-packages (3.8.1)\n",
            "Requirement already satisfied: click in /usr/local/lib/python3.10/dist-packages (from nltk) (8.1.7)\n",
            "Requirement already satisfied: joblib in /usr/local/lib/python3.10/dist-packages (from nltk) (1.3.2)\n",
            "Requirement already satisfied: regex>=2021.8.3 in /usr/local/lib/python3.10/dist-packages (from nltk) (2023.6.3)\n",
            "Requirement already satisfied: tqdm in /usr/local/lib/python3.10/dist-packages (from nltk) (4.66.1)\n",
            "Requirement already satisfied: gensim in /usr/local/lib/python3.10/dist-packages (4.3.2)\n",
            "Requirement already satisfied: numpy>=1.18.5 in /usr/local/lib/python3.10/dist-packages (from gensim) (1.23.5)\n",
            "Requirement already satisfied: scipy>=1.7.0 in /usr/local/lib/python3.10/dist-packages (from gensim) (1.11.3)\n",
            "Requirement already satisfied: smart-open>=1.8.1 in /usr/local/lib/python3.10/dist-packages (from gensim) (6.4.0)\n",
            "Collecting fuzzywuzzy\n",
            "  Downloading fuzzywuzzy-0.18.0-py2.py3-none-any.whl (18 kB)\n",
            "Installing collected packages: fuzzywuzzy\n",
            "Successfully installed fuzzywuzzy-0.18.0\n"
          ]
        }
      ],
      "source": [
        "!pip install nltk\n",
        "!pip install gensim\n",
        "!pip install fuzzywuzzy"
      ]
    },
    {
      "cell_type": "markdown",
      "metadata": {},
      "source": [
        "## Importing Libraries"
      ]
    },
    {
      "cell_type": "code",
      "execution_count": null,
      "metadata": {
        "colab": {
          "base_uri": "https://localhost:8080/"
        },
        "id": "FuAa-LXcYmE2",
        "outputId": "b8cd0c45-d462-4cb0-800c-a77dafe2c18d"
      },
      "outputs": [
        {
          "name": "stderr",
          "output_type": "stream",
          "text": [
            "[nltk_data] Downloading package stopwords to /root/nltk_data...\n",
            "[nltk_data]   Package stopwords is already up-to-date!\n"
          ]
        }
      ],
      "source": [
        "import pandas as pd\n",
        "import gensim\n",
        "import numpy as np\n",
        "import nltk\n",
        "nltk.download('stopwords')\n",
        "from sklearn.metrics.pairwise import euclidean_distances, cosine_distances\n",
        "from gensim.models import KeyedVectors\n",
        "from nltk.tokenize import word_tokenize\n",
        "from nltk.corpus import stopwords as nltk_stopwords\n",
        "from nltk.metrics import edit_distance\n",
        "from fuzzywuzzy import process"
      ]
    },
    {
      "cell_type": "markdown",
      "metadata": {},
      "source": [
        "## Downloading the Pretrained Word2Vec vectors"
      ]
    },
    {
      "cell_type": "code",
      "execution_count": null,
      "metadata": {
        "colab": {
          "base_uri": "https://localhost:8080/"
        },
        "id": "AedW773GZaoZ",
        "outputId": "e0917ea0-5de0-46da-9a55-0b47f7a7dafc"
      },
      "outputs": [
        {
          "name": "stdout",
          "output_type": "stream",
          "text": [
            "Downloading...\n",
            "From: https://drive.google.com/uc?id=0B7XkCwpI5KDYNlNUTTlSS21pQmM\n",
            "To: /content/GoogleNews-vectors-negative300.bin.gz\n",
            "100% 1.65G/1.65G [00:19<00:00, 85.4MB/s]\n"
          ]
        }
      ],
      "source": [
        "!gdown 0B7XkCwpI5KDYNlNUTTlSS21pQmM"
      ]
    },
    {
      "cell_type": "markdown",
      "metadata": {},
      "source": [
        "## Loading the first 1 Million Vectors"
      ]
    },
    {
      "cell_type": "code",
      "execution_count": null,
      "metadata": {
        "id": "wsHr4dk0aGTk"
      },
      "outputs": [],
      "source": [
        "location = 'GoogleNews-vectors-negative300.bin.gz'\n",
        "wv = KeyedVectors.load_word2vec_format(location, binary=True, limit=1000000)\n",
        "\n",
        "output_file = 'vectors.txt'\n",
        "wv.save_word2vec_format(output_file, binary=False)\n"
      ]
    },
    {
      "cell_type": "markdown",
      "metadata": {},
      "source": [
        "## Init Pipeline"
      ]
    },
    {
      "cell_type": "code",
      "execution_count": null,
      "metadata": {
        "id": "rF07DvmEadGy"
      },
      "outputs": [],
      "source": [
        "vectors_file = 'vectors.txt'\n",
        "word_vectors = KeyedVectors.load_word2vec_format(vectors_file, binary=False)"
      ]
    },
    {
      "cell_type": "markdown",
      "metadata": {},
      "source": [
        "## Processing the Phrases"
      ]
    },
    {
      "cell_type": "code",
      "execution_count": null,
      "metadata": {
        "id": "bhtCW0P3bbMg"
      },
      "outputs": [],
      "source": [
        "phrases_data = pd.read_csv('phrases (1).csv', encoding=\"latin1\")\n",
        "\n",
        "phrases = phrases_data['Phrases'].tolist()\n",
        "\n",
        "# def clean_phrase(phrase):\n",
        "#     cleaned_phrase = \" \".join(set(phrase.split()))\n",
        "#     words = cleaned_phrase.split()\n",
        "#     stop_words = set(nltk_stopwords.words('english'))\n",
        "#     cleaned_words = [word for word in words if word.lower() not in stop_words]\n",
        "#     return \" \".join(cleaned_words)\n",
        "\n",
        "def calculate_phrase_embedding(phrase):\n",
        "    words = phrase.split()\n",
        "    phrase_vectors = [word_vectors[word] for word in words if word in word_vectors]\n",
        "    if len(phrase_vectors) > 0:\n",
        "        return np.sum(phrase_vectors, axis=0) / len(phrase_vectors)\n",
        "    else:\n",
        "        return None\n",
        "\n",
        "# cleaned_phrases = [clean_phrase(phrase) for phrase in phrases]\n",
        "phrase_embeddings = {}\n",
        "for idx, phrase in enumerate(phrases):\n",
        "    embedding = calculate_phrase_embedding(phrase)\n",
        "    if embedding is not None:\n",
        "        phrase_embeddings[idx] = (phrase, embedding)\n",
        "\n",
        "# Calculate similarity between phrases\n",
        "similarity_results = {}\n",
        "for idx1, (phrase1, embedding1) in phrase_embeddings.items():\n",
        "    for idx2, (phrase2, embedding2) in phrase_embeddings.items():\n",
        "        if idx1 != idx2 and (idx2, idx1) not in similarity_results:\n",
        "            # Calculate cosine distance\n",
        "            cosine_distance = cosine_distances([embedding1], [embedding2])[0][0]\n",
        "            similarity_results[(idx1, idx2)] = cosine_distance"
      ]
    },
    {
      "cell_type": "markdown",
      "metadata": {},
      "source": [
        "## Calculating the Cosine Distance"
      ]
    },
    {
      "cell_type": "code",
      "execution_count": null,
      "metadata": {
        "colab": {
          "base_uri": "https://localhost:8080/"
        },
        "id": "hiQ-D_yWbjB5",
        "outputId": "d3c51ed6-68e3-45ea-c9e0-6c37338d9f65"
      },
      "outputs": [
        {
          "name": "stdout",
          "output_type": "stream",
          "text": [
            "Enter the Phrase you wanna check ?how company compares to its peers\n",
            "Closest match: how company compares to its peers? | Distance: 0.08219975233078003\n"
          ]
        }
      ],
      "source": [
        "def find_closest_match(user_input):\n",
        "    user_embedding = calculate_phrase_embedding(user_input)\n",
        "    if user_embedding is not None:\n",
        "        closest_match_idx = min(\n",
        "            phrase_embeddings.keys(),\n",
        "            key=lambda x: cosine_distances([user_embedding], [phrase_embeddings[x][1]])[0][0]\n",
        "        )\n",
        "        closest_match_phrase, closest_match_embedding = phrase_embeddings[closest_match_idx]\n",
        "        distance = cosine_distances([user_embedding], [closest_match_embedding])[0][0]\n",
        "        return closest_match_phrase, distance\n",
        "    else:\n",
        "        return \"No valid embedding found for the input phrase.\", None\n",
        "\n",
        "user_input = input(\"Enter the Phrase you wanna check ?\")\n",
        "closest_match, distance = find_closest_match(user_input)\n",
        "print(f\"Closest match: {closest_match} | Distance: {distance}\")"
      ]
    },
    {
      "cell_type": "markdown",
      "metadata": {},
      "source": [
        "## Checking for the User Input"
      ]
    },
    {
      "cell_type": "code",
      "execution_count": null,
      "metadata": {
        "id": "swSS5hQsd2Zk"
      },
      "outputs": [],
      "source": [
        "user_input = input(\"Enter the Phrase you wanna check ?\")\n",
        "closest_match, distance = find_closest_match(user_input)\n",
        "print(f\"Closest match: {closest_match} | Distance: {distance}\")"
      ]
    }
  ],
  "metadata": {
    "colab": {
      "provenance": []
    },
    "kernelspec": {
      "display_name": "Python 3",
      "name": "python3"
    },
    "language_info": {
      "name": "python"
    }
  },
  "nbformat": 4,
  "nbformat_minor": 0
}
